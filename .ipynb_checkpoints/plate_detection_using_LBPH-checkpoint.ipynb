{
 "cells": [
  {
   "cell_type": "code",
   "execution_count": 1,
   "id": "b8583e73",
   "metadata": {},
   "outputs": [],
   "source": [
    "import cv2\n",
    "import os\n",
    "import numpy as np\n",
    "import glob\n",
    "import matplotlib.pyplot as plt"
   ]
  },
  {
   "cell_type": "markdown",
   "id": "b8f03d24",
   "metadata": {},
   "source": [
    "# Plate Detection"
   ]
  },
  {
   "cell_type": "code",
   "execution_count": 5,
   "id": "bbe9be9e",
   "metadata": {},
   "outputs": [],
   "source": [
    "# Mendapat directory\n",
    "path = os.getcwd()\n",
    "path = path.replace(os.sep, \"/\")"
   ]
  },
  {
   "cell_type": "code",
   "execution_count": 15,
   "id": "5aceb1b4",
   "metadata": {},
   "outputs": [],
   "source": [
    "file_path_training_plate = path + '/cropped_plate_image/train-data'\n",
    "file_path_testting_plate = path + '/cropped_plate_image/test-data'"
   ]
  },
  {
   "cell_type": "code",
   "execution_count": 16,
   "id": "a3b7aabc",
   "metadata": {},
   "outputs": [],
   "source": [
    "# Load LBP opencv\n",
    "lbpcascade = path + '/dataset/haarcascade/haarcascades.xml'"
   ]
  },
  {
   "cell_type": "code",
   "execution_count": 41,
   "id": "90222f93",
   "metadata": {},
   "outputs": [],
   "source": [
    "# Function untuk mendeteksi pelat\n",
    "def plate_detect(input_picture):\n",
    "    # Convert gambar dari RGB ke GrayScale\n",
    "    picture = cv2.cvtColor(input_picture, cv2.COLOR_BGR2GRAY)\n",
    "    \n",
    "    # Klasifikasi cascade\n",
    "    cascade_pelat = cv2.CascadeClassifier('D:\\Kuliah\\Semester_8\\Penelitian\\dataset\\haarcascade/haarcascades.xml')\n",
    "    \n",
    "    # Deteksi dengan Multiscale\n",
    "    pelat = cascade_pelat.detectMultiScale(picture, scaleFactor = 1.1, minNeighbors = 2);\n",
    "    print(len(pelat))\n",
    "    # Jika pelat tidak terdeteksi kembali ke citra yang asli\n",
    "    if(len(pelat) == 0):\n",
    "        return None, None\n",
    "    \n",
    "    # Ekstrak area pelat\n",
    "    (x, y, w, h) = pelat[0]\n",
    "    \n",
    "    return picture[y:y+w, x:x-h], pelat[0]"
   ]
  },
  {
   "cell_type": "markdown",
   "id": "9c73b00e",
   "metadata": {},
   "source": [
    "# Training Data"
   ]
  },
  {
   "cell_type": "code",
   "execution_count": 42,
   "id": "0ae56918",
   "metadata": {},
   "outputs": [],
   "source": [
    "# Function untuk mendeteksi pelat dari setiam gambar\n",
    "def prepare_training_data(training_data_folder_path):\n",
    "    # Daftar untuk menampung semua pelat \n",
    "    deteksi_pelat = []\n",
    "    # list untuk menyimpan semua label \n",
    "    label_pelat = []\n",
    "    \n",
    "    # Dapatkan nama gambar yang ada di dalam direktori \n",
    "    gbr_training = os.listdir(training_data_folder_path)\n",
    "    \n",
    "    # Menelusuri setiap direktori dan membaca gambar di dalamnya\n",
    "    for nama_dir in gbr_training:        \n",
    "        # Ekstrak label number dari nama_dir\n",
    "        label = int(nama_dir)\n",
    "        \n",
    "        # Build path direktori yang berisi gambar untuk subjek saat ini \n",
    "        training_gambar_path = training_data_folder_path + \"/\" + nama_dir\n",
    "       \n",
    "        # Dapatkan nama gambar yang ada di dalam direktori subjek yang diberikan\n",
    "        training_nama_gambar = os.listdir(training_gambar_path)\n",
    "        \n",
    "        # Menelusuri setiap nama gambar, membaca gambar,\n",
    "        # Deteksi pelat dan tambahkan pelat ke daftar pelat\n",
    "        for nama_gambar in training_nama_gambar:            \n",
    "            # Membangun jalur gambar\n",
    "            # Contoh jalur gambar = training-data/s1/1.pgm\n",
    "            path_gambar = training_gambar_path  + \"/\" + nama_gambar\n",
    "            \n",
    "            # Baca gambar\n",
    "            gbr = cv2.imread(path_gambar)\n",
    "            \n",
    "            # Deteksi pelat\n",
    "            pelat_pilih, persegi = plate_detect(gbr)\n",
    "            \n",
    "            # Hindari pelat terdeteksi\n",
    "            if pelat_pilih is not None:\n",
    "                \n",
    "                # Tambahkan gambar pelat ke list pelat\n",
    "                deteksi_pelat.append(pelat_pilih)\n",
    "                \n",
    "                # Tambahkan label gambar wajah\n",
    "                label_pelat.append(label)\n",
    "    # Kembali\n",
    "    return deteksi_pelat, label_pelat"
   ]
  },
  {
   "cell_type": "code",
   "execution_count": 45,
   "id": "82438e46",
   "metadata": {},
   "outputs": [
    {
     "name": "stdout",
     "output_type": "stream",
     "text": [
      "0\n",
      "0\n",
      "0\n",
      "0\n",
      "0\n",
      "1\n",
      "2\n",
      "2\n",
      "6\n",
      "1\n"
     ]
    }
   ],
   "source": [
    "deteksi_pelat, label_pelat = prepare_training_data(file_path_training_plate)"
   ]
  },
  {
   "cell_type": "code",
   "execution_count": 99,
   "id": "b87f229c",
   "metadata": {},
   "outputs": [
    {
     "name": "stdout",
     "output_type": "stream",
     "text": [
      "Total pelat:  5\n",
      "Total label:  5\n"
     ]
    }
   ],
   "source": [
    "# print total label dan pelat\n",
    "print(\"Total pelat: \", len(deteksi_pelat))\n",
    "print(\"Total label: \", len(label_pelat))"
   ]
  },
  {
   "cell_type": "code",
   "execution_count": null,
   "id": "9048537d",
   "metadata": {},
   "outputs": [],
   "source": []
  },
  {
   "cell_type": "code",
   "execution_count": null,
   "id": "c632de5c",
   "metadata": {},
   "outputs": [],
   "source": []
  }
 ],
 "metadata": {
  "kernelspec": {
   "display_name": "Python 3",
   "language": "python",
   "name": "python3"
  },
  "language_info": {
   "codemirror_mode": {
    "name": "ipython",
    "version": 3
   },
   "file_extension": ".py",
   "mimetype": "text/x-python",
   "name": "python",
   "nbconvert_exporter": "python",
   "pygments_lexer": "ipython3",
   "version": "3.8.8"
  }
 },
 "nbformat": 4,
 "nbformat_minor": 5
}
