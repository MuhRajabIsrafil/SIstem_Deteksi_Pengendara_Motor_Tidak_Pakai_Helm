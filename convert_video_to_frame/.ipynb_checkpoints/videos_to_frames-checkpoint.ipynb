{
 "cells": [
  {
   "cell_type": "code",
   "execution_count": 2,
   "id": "cf85fec0",
   "metadata": {},
   "outputs": [],
   "source": [
    "import cv2\n",
    "import glob\n",
    "import os"
   ]
  },
  {
   "cell_type": "markdown",
   "id": "5d33a8c1",
   "metadata": {},
   "source": [
    "# Video to Frame"
   ]
  },
  {
   "cell_type": "code",
   "execution_count": 3,
   "id": "eb75ad99",
   "metadata": {},
   "outputs": [
    {
     "name": "stdout",
     "output_type": "stream",
     "text": [
      "D:/Kuliah/Semester_8/Penelitian/data\n"
     ]
    }
   ],
   "source": [
    "# Mendapat directory video\n",
    "path = os.getcwd()\n",
    "path = os.path.dirname(path) + \"\\data\"\n",
    "path = path.replace(os.sep, \"/\")\n",
    "print(path)"
   ]
  },
  {
   "cell_type": "code",
   "execution_count": 4,
   "id": "f36a31c0",
   "metadata": {},
   "outputs": [],
   "source": [
    "# Mendapatkan file path video yang akan dikonversi menjadi frame\n",
    "video_path = path + \"/videos\"\n",
    "frames_path = path + \"/frames\""
   ]
  },
  {
   "cell_type": "markdown",
   "id": "4ad0ae24",
   "metadata": {},
   "source": [
    "## Convert Video to Frame"
   ]
  },
  {
   "cell_type": "code",
   "execution_count": 6,
   "id": "b73cb82a",
   "metadata": {},
   "outputs": [],
   "source": [
    "# Mendapatkan video yang akan dikonversi\n",
    "i = 0\n",
    "\n",
    "for videos in glob.glob1(video_path, '*.mp4'):\n",
    "    if (os.path.isdir(frames_path + '/video_' + str((i + 1))) != True):\n",
    "        # Buat folder untuk masing-masing file video yang akan dikonversi ke frame\n",
    "        os.mkdir(frames_path + '/video_' + str((i + 1)))\n",
    "        \n",
    "        # Menghitung jumlah file jpg pada suatu folder frame\n",
    "        jumlah_frame = len(glob.glob1(frames_path + '/video_' + str((i + 1)), \"*.jpg\"))\n",
    "\n",
    "        # Inisialisasi penangkap video\n",
    "        cap = cv2.VideoCapture(video_path + \"/\" + videos)\n",
    "        \n",
    "        while True:\n",
    "            ret, frame = cap.read()\n",
    "            if not ret:\n",
    "                break;\n",
    "            cv2.imwrite(os.path.join(frames_path + '/video_' + str((i + 1)), 'frame_' + str((i + 1)) + '_' + str((jumlah_frame + 1)) + '.jpg'), frame)\n",
    "            jumlah_frame += 1 \n",
    "    i += 1"
   ]
  }
 ],
 "metadata": {
  "kernelspec": {
   "display_name": "Python 3",
   "language": "python",
   "name": "python3"
  },
  "language_info": {
   "codemirror_mode": {
    "name": "ipython",
    "version": 3
   },
   "file_extension": ".py",
   "mimetype": "text/x-python",
   "name": "python",
   "nbconvert_exporter": "python",
   "pygments_lexer": "ipython3",
   "version": "3.8.8"
  }
 },
 "nbformat": 4,
 "nbformat_minor": 5
}
